{
 "cells": [
  {
   "cell_type": "markdown",
   "metadata": {},
   "source": [
    "# Sixth Step: All The Parameters that starts with cfg is here."
   ]
  },
  {
   "cell_type": "code",
   "execution_count": null,
   "metadata": {
    "collapsed": true
   },
   "outputs": [],
   "source": [
    "import tensorflow as tf\n",
    "\n",
    "flags = tf.app.flags"
   ]
  },
  {
   "cell_type": "markdown",
   "metadata": {},
   "source": [
    "### 1) Hyperparameters "
   ]
  },
  {
   "cell_type": "code",
   "execution_count": null,
   "metadata": {
    "collapsed": true
   },
   "outputs": [],
   "source": [
    "'''\n",
    "[ Hyperparameters ]\n",
    " - You can change the numbers whatever you want!\n",
    " - When Training, it takes quite a lot of time,\n",
    "   so I changed epoch times in order to see results quickly.\n",
    "'''\n",
    "# For separate margin loss\n",
    "flags.DEFINE_float('m_plus', 0.9, 'the parameter of m plus')\n",
    "flags.DEFINE_float('m_minus', 0.1, 'the parameter of m minus')\n",
    "flags.DEFINE_float('lambda_val', 0.5, 'down weight of the loss for absent digit classes')\n",
    "\n",
    "# for training\n",
    "flags.DEFINE_integer('batch_size', 128, 'batch size')\n",
    "flags.DEFINE_integer('epoch', 10, 'epoch')\n",
    "flags.DEFINE_integer('iter_routing', 3, 'number of iterations in routing algorithm')\n",
    "flags.DEFINE_boolean('mask_with_y', True, 'use the true label to mask out target capsule or not')\n",
    "\n",
    "flags.DEFINE_float('stddev', 0.01, 'stddev for W initializer')\n",
    "flags.DEFINE_float('regularization_scale', 0.392, 'regularization coefficient for reconstruction loss, default to 0.0005*784=0.392')"
   ]
  },
  {
   "cell_type": "markdown",
   "metadata": {},
   "source": [
    "### 2) Environment Settings"
   ]
  },
  {
   "cell_type": "code",
   "execution_count": null,
   "metadata": {
    "collapsed": true
   },
   "outputs": [],
   "source": [
    "'''\n",
    "[ Enviroment Settings ]\n",
    " - If you have downloaded datasets not only mnist, then you need to add.\n",
    "'''\n",
    "flags.DEFINE_string('dataset', 'mnist', 'The name of dataset [mnist]')\n",
    "flags.DEFINE_boolean('is_training', True, 'train or predict phase')\n",
    "flags.DEFINE_integer('num_threads', 8, 'number of threads of enqueueing examples')\n",
    "flags.DEFINE_string('logdir', 'logdir', 'logs directory')\n",
    "flags.DEFINE_integer('train_sum_freq', 100, 'the frequency of saving train summary(step)')\n",
    "flags.DEFINE_integer('valid_sum_freq', 500, 'the frequency of saving valuation summary(step)')\n",
    "flags.DEFINE_integer('save_freq', 3, 'the frequency of saving model(epoch)')\n",
    "flags.DEFINE_string('results', 'results', 'path for saving results')"
   ]
  },
  {
   "cell_type": "markdown",
   "metadata": {},
   "source": [
    "### 3) Distributed Settings"
   ]
  },
  {
   "cell_type": "code",
   "execution_count": null,
   "metadata": {
    "collapsed": true
   },
   "outputs": [],
   "source": [
    "'''\n",
    "[ Distributed Settings ]\n",
    "'''\n",
    "flags.DEFINE_integer('num_gpu', 2, 'number of gpus for distributed training')\n",
    "flags.DEFINE_integer('batch_size_per_gpu', 128, 'batch size on 1 gpu')\n",
    "flags.DEFINE_integer('thread_per_gpu', 4, 'Number of preprocessing threads per tower.')"
   ]
  },
  {
   "cell_type": "markdown",
   "metadata": {},
   "source": [
    "### 4) All Parameters that starts with cfg"
   ]
  },
  {
   "cell_type": "code",
   "execution_count": null,
   "metadata": {
    "collapsed": true
   },
   "outputs": [],
   "source": [
    "cfg = flags.FLAGS"
   ]
  }
 ],
 "metadata": {
  "kernelspec": {
   "display_name": "Python 3",
   "language": "python",
   "name": "python3"
  },
  "language_info": {
   "codemirror_mode": {
    "name": "ipython",
    "version": 3
   },
   "file_extension": ".py",
   "mimetype": "text/x-python",
   "name": "python",
   "nbconvert_exporter": "python",
   "pygments_lexer": "ipython3",
   "version": "3.6.3"
  }
 },
 "nbformat": 4,
 "nbformat_minor": 2
}
