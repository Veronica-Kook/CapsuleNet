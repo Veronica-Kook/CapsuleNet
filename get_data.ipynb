{
 "cells": [
  {
   "cell_type": "markdown",
   "metadata": {},
   "source": [
    "# First Step : Get MNIST Data"
   ]
  },
  {
   "cell_type": "markdown",
   "metadata": {},
   "source": [
    "### 1) Import Modules"
   ]
  },
  {
   "cell_type": "code",
   "execution_count": null,
   "metadata": {
    "collapsed": true
   },
   "outputs": [],
   "source": [
    "from os import mkdir, makedirs\n",
    "from os.path import join, exists, splitext\n",
    "from urllib.request import urlretrieve\n",
    "import gzip\n",
    "import shutil\n",
    "import argparse"
   ]
  },
  {
   "cell_type": "markdown",
   "metadata": {},
   "source": [
    "### 2) Web-site of MNIST data"
   ]
  },
  {
   "cell_type": "code",
   "execution_count": null,
   "metadata": {
    "collapsed": true
   },
   "outputs": [],
   "source": [
    "# MNIST Data\n",
    "base_url = \"http://yann.lecun.com/exdb/mnist/\"\n",
    "train_imgs = base_url + \"train-images-idx3-ubyte.gz\"\n",
    "train_labels = base_url + \"train-labels-idx1-ubyte.gz\"\n",
    "test_imgs = base_url + \"t10k-images-idx3-ubyte.gz\"\n",
    "test_labels = base_url + \"t10k-labels-idx1-ubyte.gz\""
   ]
  },
  {
   "cell_type": "markdown",
   "metadata": {},
   "source": [
    "### 3) Download zip files of MNIST data"
   ]
  },
  {
   "cell_type": "code",
   "execution_count": null,
   "metadata": {
    "collapsed": true
   },
   "outputs": [],
   "source": [
    "def download_zip_file(base_url, user_path):\n",
    "    '''\n",
    "    Args:\n",
    "        base_url: the MNIST data url\n",
    "        user_path: the user's path to save data\n",
    "    '''\n",
    "    filename = base_url.split('/')[-1]\n",
    "    filepath = join(user_path, filename)\n",
    "\n",
    "    # If there is no user_path directory then make it!    \n",
    "    if not exists(user_path):\n",
    "        mkdir(user_path)\n",
    "        \n",
    "    unzip = splitext(filepath)[0]\n",
    "\n",
    "    filepath, _ = urlretrieve(base_url, filepath)\n",
    "    print('\\nSuccessfully Downloaded', filename)\n",
    "    \n",
    "    return unzip, filename, filepath"
   ]
  },
  {
   "cell_type": "markdown",
   "metadata": {},
   "source": [
    "### 4) Unzip the MNIST files"
   ]
  },
  {
   "cell_type": "code",
   "execution_count": null,
   "metadata": {
    "collapsed": true
   },
   "outputs": [],
   "source": [
    "def unzip_file(unzip, filename, filepath):\n",
    "    '''\n",
    "    Args:\n",
    "        unzip: file without extension\n",
    "        filename: file's name\n",
    "        filepath: user_path/filename\n",
    "    '''\n",
    "    with gzip.open(filepath, 'rb') as f_in, open(unzip, 'wb') as f_out:\n",
    "        print('\\nUnzipping the file ', filename)\n",
    "        shutil.copyfileobj(f_in, f_out)\n",
    "        print('\\nSuccessfully unzipped the file!')"
   ]
  },
  {
   "cell_type": "markdown",
   "metadata": {},
   "source": [
    "### 5) Action 3), 4) Steps"
   ]
  },
  {
   "cell_type": "code",
   "execution_count": null,
   "metadata": {
    "collapsed": true
   },
   "outputs": [],
   "source": [
    "def down_and_unzip(save_dir):\n",
    "    '''\n",
    "    Args:\n",
    "        save_dir: save MNIST Data to 'save_dir'\n",
    "    '''\n",
    "    \n",
    "    # If there is no save_dir directory then make it!\n",
    "    if not exists(save_dir):\n",
    "        makedirs(save_dir)\n",
    "    \n",
    "    # Only MNIST Data\n",
    "    train_imgs_out, train_imgs_filename, train_imgs_filepath = download_zip_file(train_imgs, save_dir)\n",
    "    unzip_file(train_imgs_out, train_imgs_filename, train_imgs_filepath)\n",
    "    \n",
    "    train_labels_out, train_labels_filename, train_labels_filepath = download_zip_file(train_labels, save_dir)\n",
    "    unzip_file(train_labels_out, train_labels_filename, train_labels_filepath)\n",
    "    \n",
    "    test_imgs_out, test_imgs_filename, test_imgs_filepath = download_zip_file(test_imgs, save_dir)\n",
    "    unzip_file(test_imgs_out, test_imgs_filename, test_imgs_filepath)\n",
    "    \n",
    "    test_labels_out, test_labels_filename, test_labels_filepath = download_zip_file(test_labels, save_dir)   \n",
    "    unzip_file(test_labels_out, test_labels_filename, test_labels_filepath)\n",
    "    \n",
    "    print(\"\\nEvery file had been downloaded as zipped and unzipped files\")"
   ]
  },
  {
   "cell_type": "markdown",
   "metadata": {},
   "source": [
    "### 6) Real Action Time"
   ]
  },
  {
   "cell_type": "code",
   "execution_count": null,
   "metadata": {},
   "outputs": [],
   "source": [
    "if __name__ == '__main__':\n",
    "    parser = argparse.ArgumentParser(\"Download MNIST Data automatically for you :) (There's only MNIST Data right now.)\") \n",
    "    save_dir = join('Data', 'MNIST')\n",
    "    parser.add_argument(\"--save_dir\", default=save_dir)\n",
    "    args = parser.parse_args()\n",
    "    down_and_unzip(args.save_dir)"
   ]
  },
  {
   "cell_type": "code",
   "execution_count": null,
   "metadata": {
    "collapsed": true
   },
   "outputs": [],
   "source": []
  }
 ],
 "metadata": {
  "kernelspec": {
   "display_name": "Python 3",
   "language": "python",
   "name": "python3"
  },
  "language_info": {
   "codemirror_mode": {
    "name": "ipython",
    "version": 3
   },
   "file_extension": ".py",
   "mimetype": "text/x-python",
   "name": "python",
   "nbconvert_exporter": "python",
   "pygments_lexer": "ipython3",
   "version": "3.6.3"
  }
 },
 "nbformat": 4,
 "nbformat_minor": 2
}
